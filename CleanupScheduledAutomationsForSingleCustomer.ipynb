{
 "cells": [
  {
   "cell_type": "markdown",
   "id": "1d63092d-e0ab-41ac-aa5a-930a3f8d27ef",
   "metadata": {},
   "source": [
    "# Cleanup Scheduled Automations for Single Customer\n",
    "\n",
    "Workflow:\n",
    "1. Configure csv file names (1 for first customer, 1 for automation ids), base url and db connection string \n",
    "2. Read csv for customer login details (in first row)\n",
    "3. Read csv for list of automation ids to remove schedules from\n",
    "4. Authenticate with first customer\n",
    "5. Make API request to remove schedules (by making them flexible)\n",
    "7. Export data to csv for data that failed cleanup"
   ]
  },
  {
   "cell_type": "code",
   "execution_count": null,
   "id": "ea3f544a-19b3-4fef-94be-f083af2829ae",
   "metadata": {},
   "outputs": [],
   "source": [
    "import pandas as pd\n",
    "from requests import Session\n",
    "\n",
    "from Auth import UserSession\n",
    "from CommonLib import ConsoleHelpers\n",
    "from CommonLib.ResponseDecorators import PropertyMeHttpRequestExceptionHandler\n",
    "from Config import ConfigureCsvFilename, ConfigurePropertyMeBaseUrl, ConfigureMySqlConnectionString\n",
    "from Database import WriteDb"
   ]
  },
  {
   "cell_type": "code",
   "execution_count": null,
   "id": "016b17ad-408a-4f8f-915f-f1f07c37890b",
   "metadata": {},
   "outputs": [],
   "source": [
    "# Configure csv file name, base url and db connection string\n",
    "divider = \"\\n********************************************************************************\"\n",
    "\n",
    "csvExplanation = '''\n",
    "The first csv file will be read from to obtain the customer in first row for login and automation deletion.    \n",
    "The second csv file will be read from for list of automation ids to remove schedules from.\n",
    "    \n",
    "    NOTE: This may be the csv file of \"aa-load-test-inserted-automations-for-<customerId>.csv\" generated from \"InsertScheduledAutomationsForSingleCustomer.py\"\n",
    "    Alternatively, it can be the \"aa-load-test-failed-cleanup-automations-for-<customerId>.csv\" to re run the failed patches from a previous run of this script.\n",
    "    \n",
    "The automations which successfully had their ids removed will then also be deleted from the db\n",
    "'''\n",
    "print(csvExplanation)\n",
    "\n",
    "customerFilenameDefault = 'aa-load-test-customer-data'\n",
    "print('The following csv is for the CUSTOMER LOGIN')\n",
    "customerFullFilename = ConfigureCsvFilename(customerFilenameDefault)\n",
    "\n",
    "baseUrl = ConfigurePropertyMeBaseUrl()\n",
    "patchAutomationEndpointUrl = baseUrl + '/api/automation/automations'\n",
    "\n",
    "print('\\nA db connection is required to update cloned customers to have an Uncharged Dataset type and \"pro\" member permissions for bypassing subscription and role checks.')\n",
    "dbString = ConfigureMySqlConnectionString()\n",
    "\n",
    "print(divider)"
   ]
  },
  {
   "cell_type": "code",
   "execution_count": null,
   "id": "c30a8dd6-9e9e-4520-aa83-e6ba8a2e2e96",
   "metadata": {},
   "outputs": [],
   "source": [
    "# Get details of first customer from csv\n",
    "print(\"== READING FROM FIRST CSV FOR CUSTOMER ==\")\n",
    "\n",
    "customers = pd.read_csv(customerFullFilename)\n",
    "firstCustomer = customers.iloc[0].to_dict()\n",
    "\n",
    "firstCustomerId = firstCustomer['CustomerId']\n",
    "loginEmail = firstCustomer['Username']\n",
    "pw = firstCustomer['Pw']\n",
    "messageTemplateId = firstCustomer['MessageTemplateId']\n",
    "\n",
    "print(f'User to login as: {loginEmail}')\n",
    "print(f'CustomerId : {firstCustomerId}')\n",
    "\n",
    "print(divider)"
   ]
  },
  {
   "cell_type": "code",
   "execution_count": null,
   "id": "7ba1f2a5-5314-4030-99fe-f34e0b02bade",
   "metadata": {},
   "outputs": [],
   "source": [
    "# Configure filename for inserted automations\n",
    "automationsFullFilenameDefault = f'aa-load-test-inserted-automations-for-{firstCustomerId}'\n",
    "print('The following csv is for the AUTOMATION IDS')\n",
    "automationsFullFilename = ConfigureCsvFilename(automationsFullFilenameDefault)\n",
    "print(divider)"
   ]
  },
  {
   "cell_type": "code",
   "execution_count": null,
   "id": "31098ae3-4f10-4e93-b99a-ad7e6a63b057",
   "metadata": {},
   "outputs": [],
   "source": [
    "# Get details of first customer from csv\n",
    "print(\"== READING FROM SECOND CSV FOR AUTOMATION IDS ==\")\n",
    "\n",
    "automationIds = pd.read_csv(automationsFullFilename)\n",
    "\n",
    "print(automationIds)\n",
    "print(divider)"
   ]
  },
  {
   "cell_type": "code",
   "execution_count": null,
   "id": "2909b1e0-116a-4ca0-b6fc-e723170d02b6",
   "metadata": {},
   "outputs": [],
   "source": [
    "# Authenticate that first customer\n",
    "print('\\nAUTHENTICATING:')\n",
    "userSession = UserSession(loginEmail, pw, baseUrl, True, firstCustomerId)\n",
    "print(userSession)\n",
    "print(divider)"
   ]
  },
  {
   "cell_type": "code",
   "execution_count": null,
   "id": "424e5868-9f98-4f2b-bc31-c18170374b2c",
   "metadata": {},
   "outputs": [],
   "source": [
    "# Patch automations with a schedule via API requests\n",
    "print('\\nPATCHING EACH AUTOMATION WITH A SCHEDULE:')\n",
    "\n",
    "patchAutomationData = {\n",
    "    \"Rules\": [],\n",
    "    \"Schedule\": {\n",
    "        \"DaysOfWeek\": []\n",
    "    }\n",
    "}\n",
    "failedCleanupAutomations = []\n",
    "automationsToDelete = []\n",
    "\n",
    "@PropertyMeHttpRequestExceptionHandler()\n",
    "def PatchAutomationRequest(requestSession: Session, automationId: str, json: dict):\n",
    "    global patchAutomationEndpointUrl\n",
    "    return requestSession.patch(f'{patchAutomationEndpointUrl}/{automationId}', json=json)\n",
    "\n",
    "def PatchAutomation(requestSession: Session, automationId: str) -> bool:\n",
    "    patchResp = PatchAutomationRequest(requestSession, automationId, patchAutomationData)\n",
    "\n",
    "    if patchResp is None:\n",
    "        print(f'Unable to patch automation with id {automationId}')\n",
    "        return False\n",
    "        \n",
    "    print(f'Automation patched for id {automationId}')\n",
    "    return True\n",
    "\n",
    "def PatchAuto(s: pd.Series):\n",
    "    if s.ScheduleExists:\n",
    "        succeeded = PatchAutomation(userSession.Current, s.AutomationId)\n",
    "        \n",
    "        if not succeeded:\n",
    "            failedCleanupAutomations.append({\n",
    "                \"AutomationId\": s.AutomationId,\n",
    "                \"ScheduleExists\": True\n",
    "            })\n",
    "            return\n",
    "\n",
    "    # Placed outside 'if' block to also add in automations which previously were inserted but failed with creating schedule\n",
    "    automationsToDelete.append({\n",
    "        \"AutomationId\": s.AutomationId,\n",
    "        \"ScheduleExists\": False\n",
    "    })\n",
    "\n",
    "\n",
    "print(f\"PATCH requests to be made to base url '{patchAutomationEndpointUrl}/<automationId>'\")\n",
    "print(f\"Preparing to update automations with schedules for customer {loginEmail}...\")\n",
    "\n",
    "automationIds.apply(PatchAuto, axis=1)\n",
    "\n",
    "print(\"\\nPATCHING COMPLETED\")\n",
    "print(divider)"
   ]
  },
  {
   "cell_type": "code",
   "execution_count": null,
   "id": "45cea0ef-ca7f-4116-a1c0-b7bb77eb003a",
   "metadata": {},
   "outputs": [],
   "source": [
    "# Export to csv\n",
    "if len(failedCleanupAutomations) == 0:\n",
    "    print('\\nNo patches failed. Nothing to export.')\n",
    "else:\n",
    "    failedAutomationsDf = pd.DataFrame(failedCleanupAutomations)\n",
    "    failedAutomationsFullFilename = f'aa-load-test-failed-cleanup-automations-for-{firstCustomerId}.csv'\n",
    "    failedAutomationsDf.to_csv(failedAutomationsFullFilename)\n",
    "    print(f'\\nExported failed automations to file {failedAutomationsFullFilename}')"
   ]
  },
  {
   "cell_type": "code",
   "execution_count": null,
   "id": "79c3cfcf-0454-426f-bca1-9eddc34bb453",
   "metadata": {},
   "outputs": [],
   "source": [
    "ConsoleHelpers.PreventImmediateConsoleClose('Completed.')"
   ]
  }
 ],
 "metadata": {
  "kernelspec": {
   "display_name": "Python 3 (ipykernel)",
   "language": "python",
   "name": "python3"
  },
  "language_info": {
   "codemirror_mode": {
    "name": "ipython",
    "version": 3
   },
   "file_extension": ".py",
   "mimetype": "text/x-python",
   "name": "python",
   "nbconvert_exporter": "python",
   "pygments_lexer": "ipython3",
   "version": "3.9.7"
  }
 },
 "nbformat": 4,
 "nbformat_minor": 5
}
