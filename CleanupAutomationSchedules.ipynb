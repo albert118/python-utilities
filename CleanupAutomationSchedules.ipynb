{
 "cells": [
  {
   "cell_type": "markdown",
   "id": "dc9b10b0-d4f5-4813-b24a-5508ffcc6a23",
   "metadata": {
    "tags": []
   },
   "source": [
    "# Cleanup Automation Schedules (Arrears)\n",
    "\n",
    "## Prerequisites:\n",
    "--------------------\n",
    "* CSV file with columns CustomerId, Username and Password. \n",
    "* Each customer within the csv file to be read is expected to have an automation of type 'Arrears'. \n",
    "* Using the same csv file used for creating automations is expected.\n",
    "\n",
    "## Workflow:\n",
    "--------------------\n",
    "\n",
    "1. Set constants;\n",
    "   * This includes setup of the default filenames and endpoints.\n",
    "2. Read from csv file and load customer data into memory;\n",
    "3. Configure api request base data;\n",
    "   * Authenticate all users.\n",
    "   * Make requests to existing endpoints and obtain automations per customer, before extracting the Automation ID.\n",
    "4. Make a subsequent request to update the automation to be flexible (schedule removed).\n",
    "\n",
    "**NOTE: This only removes schedules, the automations will still exist!**"
   ]
  },
  {
   "cell_type": "code",
   "execution_count": null,
   "id": "66eb8580-38e5-4598-8d3c-65bf9f17b739",
   "metadata": {},
   "outputs": [],
   "source": [
    "import pandas as pd\n",
    "from requests import Session\n",
    "\n",
    "from Auth import UserSessionsHandler\n",
    "from CommonLib import NotebookHelper, ConsoleHelpers\n",
    "from CommonLib.ListHelpers import FilterList\n",
    "from CommonLib.ResponseDecorators import PropertyMeHttpRequestExceptionHandler\n",
    "from Config import ConfigureCsvFilename, ConfigureUrl, ConfigurePropertyMeBaseUrl"
   ]
  },
  {
   "cell_type": "markdown",
   "id": "8c68d281-98b4-43ab-b03b-1bcdcbbd0b02",
   "metadata": {
    "tags": []
   },
   "source": [
    "## 1. Set Constants\n",
    "--------------------"
   ]
  },
  {
   "cell_type": "code",
   "execution_count": null,
   "id": "05be495e-c767-45c0-bd48-41ff76bbdc54",
   "metadata": {},
   "outputs": [],
   "source": [
    "divider = \"********************************************************************************\"\n",
    "fullFilenameDefault = 'aa-load-test-customer-data'\n",
    "fullFilename = None\n",
    "dbString = None\n",
    "failedCsvFilename = \"aa-load-test-cleanups-failed.csv\"\n",
    "\n",
    "customers = pd.DataFrame()\n",
    "\n",
    "baseUrl = ConfigurePropertyMeBaseUrl()"
   ]
  },
  {
   "cell_type": "markdown",
   "id": "59de758d-290a-4073-94b9-01298b34f3ac",
   "metadata": {
    "tags": []
   },
   "source": [
    "## 2. Read CSV Load Customer Data\n",
    "--------------------"
   ]
  },
  {
   "cell_type": "code",
   "execution_count": null,
   "id": "9c6f1038-3fa0-455d-ab57-c6009633b02f",
   "metadata": {},
   "outputs": [],
   "source": [
    "# Retrieve the load testing customer data\n",
    "print(divider)\n",
    "print('\\nLOADING CUSTOMER DATA FROM CSV:')\n",
    "\n",
    "csvExplanation = \"\"\"\n",
    "    The csv will require columns titled: CustomerId, Username, Pw, MessageTemplateId\n",
    "    If these values are missing, then subsequent operations may fail unexpectedly.\n",
    "    \"\"\"\n",
    "\n",
    "print(\"== CONFIGURING CSV ==\")\n",
    "print(csvExplanation)\n",
    "\n",
    "if not fullFilename:\n",
    "    fullFilename = ConfigureCsvFilename(fullFilenameDefault)\n",
    "\n",
    "# Read from csv (expecting 4 columns)\n",
    "print('\\nREADING FROM CSV:')\n",
    "customers = pd.read_csv(fullFilename)\n",
    "\n",
    "# Add the new AutomationId column if it wasn't already there\n",
    "if \"AutomationId\" not in customers.columns:\n",
    "    customers[\"AutomationId\"] = \"\"\n",
    "\n",
    "print('\\nCustomer rows from file (customerId, username, messageTemplateId, memberId, managerId) (Password not shown):')\n",
    "NotebookHelper.Output(customers.drop([\"Pw\"], axis=1).head())\n",
    "\n",
    "input(\"Ensure this data is correct. Then hit Enter to continue\")\n",
    "print(divider)"
   ]
  },
  {
   "cell_type": "markdown",
   "id": "15cb16d2-c493-4bca-b6f0-1add0e03843a",
   "metadata": {
    "tags": []
   },
   "source": [
    "## 3. Configure API Requests - Authentication\n",
    "--------------------"
   ]
  },
  {
   "cell_type": "code",
   "execution_count": null,
   "id": "259777e9-e0ef-41ca-83de-1e32392ca6b3",
   "metadata": {},
   "outputs": [],
   "source": [
    "# Configure the load testing 'customer' authentication sessions.\n",
    "print(divider)\n",
    "print('\\nAUTHENTICATING AND OBTAINING SESSION DATA FOR EACH CUSTOMER:')\n",
    "\n",
    "def MakeSession(s: pd.Series, handler: UserSessionsHandler):\n",
    "    \"\"\"Functional approach is a neat way to easily auth users in a dataframe.\"\"\"\n",
    "    return handler.AddUserSession(s.Username, s.Pw, customerId=s.CustomerId)\n",
    "\n",
    "pmeHandler = UserSessionsHandler(baseUrl)\n",
    "customers.apply(lambda c: MakeSession(c, pmeHandler), axis=1)\n",
    "pmeHandler.AuthenticateSessions()\n",
    "\n",
    "print('\\n\\n**CHECK CUSTOMER DATA IS ALL EXPECTED**')\n",
    "print(f\"{len(pmeHandler.Sessions)} sessions were created.\")\n",
    "print(f\"Session summary:\\t{pmeHandler.Sessions[:5]}\")\n",
    "endSectionMessage = \"To re-execute the script and start again, close the program.\"\n",
    "ConsoleHelpers.PreventImmediateConsoleClose(endSectionMessage)\n",
    "\n",
    "print(divider)"
   ]
  },
  {
   "cell_type": "markdown",
   "id": "7c0468eb-b686-4b08-995f-7b31559782cd",
   "metadata": {
    "tags": []
   },
   "source": [
    "## 3. Configure API Requests - Automation ID Retrieval\n",
    "--------------------"
   ]
  },
  {
   "cell_type": "code",
   "execution_count": null,
   "id": "02affa15-bff1-4888-9a57-74712ee8c331",
   "metadata": {},
   "outputs": [],
   "source": [
    "# Get the arrears automation id for each customer\n",
    "print(divider)\n",
    "print('\\nQUERYING FOR ARREARS AUTOMATIONS AND OBTAINING CREATED IDs:')\n",
    "\n",
    "queryAutomationUrl = baseUrl + '/api/automation/automations?Type=Arrears'\n",
    "\n",
    "# If the auto schedules were already reset by exterior SQL scripts, then this will error out\n",
    "# and become blocking to the reset process.\n",
    "@PropertyMeHttpRequestExceptionHandler(False)\n",
    "def GetAutomationRequest(requestSession: Session):\n",
    "    return requestSession.get(queryAutomationUrl)\n",
    "\n",
    "# Returns None if no arrears automation found, otherwise a dictionary of key values for the automation\n",
    "def GetAutomation(requestSession: Session):\n",
    "    response = GetAutomationRequest(requestSession)\n",
    "    if response is None:\n",
    "        return None\n",
    "    \n",
    "    arrearsAutomation = FilterList(response.json(), lambda a: a.get(\"Type\") == \"Arrears\")\n",
    "    return arrearsAutomation\n",
    "\n",
    "print(f'GET requests to be made to {queryAutomationUrl}')\n",
    "\n",
    "# functional approach is a neat way to easily auth users in a dataframe\n",
    "def GetAutomations(s: pd.Series):\n",
    "    global pmeHandler # must be setup earlier in the script\n",
    "    session = pmeHandler.GetCustomerUserSession(s.CustomerId)\n",
    "    automation = GetAutomation(session.Current) \n",
    "    \n",
    "    if not automation:\n",
    "        print(f\"No automation was found for {s.Username}\")\n",
    "        return\n",
    "    \n",
    "    try:\n",
    "        s.AutomationId = automation.get(\"Id\")\n",
    "    except AttributeError as ex:\n",
    "        print(f\"\\nAn error occurred. No AutomationId was retrieved.\\n\\tError: {ex}\")\n",
    "    return\n",
    "\n",
    "# previous steps may include AutomationId for us already! only GET WHERE AutomationId IS NaN\n",
    "noAutoIds = customers[customers.AutomationId.isnull()].set_index(\"CustomerId\")\n",
    "if noAutoIds.shape[0] > 0:\n",
    "    # even though a prev step probably failed to retrieve an auto id,\n",
    "    # double check to clear as much data as possible\n",
    "    noAutoIds.apply(GetAutomations, axis=1)\n",
    "    # adjust any NaN values we can\n",
    "    customers = customers.combine_first(noAutoIds)\n",
    "\n",
    "# valid Automations are not empty so reindex for display purposes\n",
    "validSlice = customers[customers.AutomationId != '']\n",
    "\n",
    "print(\"\\nSUMMARY OF OBTAINED AUTOMATIONS (Username, AutomationId): \")\n",
    "NotebookHelper.Output(f\"{validSlice.shape[0]} valid automations obtained.\")\n",
    "NotebookHelper.Output(validSlice[[\"CustomerId\", \"AutomationId\"]].head())\n",
    "\n",
    "endSectionMessage = \"Continue Patching the Automation (Removing schedules). \"\n",
    "ConsoleHelpers.PreventImmediateConsoleClose(endSectionMessage)\n",
    "\n",
    "print(f'\\n{divider}')"
   ]
  },
  {
   "cell_type": "markdown",
   "id": "b3d8ee94-7930-4d68-9f10-4c4c7882fd43",
   "metadata": {
    "tags": []
   },
   "source": [
    "## 4. Remove Automation Schedules (Make Flexible)\n",
    "--------------------"
   ]
  },
  {
   "cell_type": "code",
   "execution_count": null,
   "id": "5d534ccc-b70e-4162-8153-eb7ba5c9885d",
   "metadata": {},
   "outputs": [],
   "source": [
    "# Patch automations to remove schedule\n",
    "print(divider)\n",
    "print('\\nPATCHING EACH AUTOMATION TO REMOVE SCHEDULE:')\n",
    "\n",
    "patchAutomationEndpointUrl = baseUrl + '/api/automation/automations'\n",
    "patchAutomationData = {\n",
    "    \"Rules\": [],\n",
    "    \"Schedule\": {\n",
    "        \"DaysOfWeek\": []\n",
    "    }\n",
    "}\n",
    "failedCleanups = []\n",
    "\n",
    "@PropertyMeHttpRequestExceptionHandler(True)\n",
    "def PatchAutomationRequest(requestSession: Session, automationId: str, json: dict):\n",
    "    return requestSession.patch(f'{patchAutomationEndpointUrl}/{automationId}', json=json)\n",
    "\n",
    "def PatchAutomation(requestSession: Session, automationId: str) -> bool:\n",
    "    patchResp = PatchAutomationRequest(requestSession, automationId, patchAutomationData)\n",
    "\n",
    "    if patchResp is None:\n",
    "        print(f'Unable to patch automation with id {automationId}')\n",
    "        return False\n",
    "        \n",
    "    print(f'Automation patched for id {automationId}')\n",
    "    return True\n",
    "\n",
    "\n",
    "# functional approach is a neat way to easily auth users in a dataframe\n",
    "def PatchSessions(s: pd.Series, handler: UserSessionsHandler):\n",
    "    session = handler.GetCustomerUserSession(s.CustomerId)\n",
    "    succeeded = PatchAutomation(session.Current, s.AutomationId)\n",
    "    \n",
    "    if not succeeded:\n",
    "        failedCleanups.append(s.to_dict())\n",
    "\n",
    "print(f'PATCH requests to be made to url \"{patchAutomationEndpointUrl}/<automationId>\"\\n')\n",
    "customers.apply(lambda c: PatchSessions(c, pmeHandler), axis=1)\n",
    "\n",
    "# Export failed csv to new csv file\n",
    "if len(failedCleanups) > 0:\n",
    "    failedCleanupsDf = pd.DataFrame(failedCleanups)\n",
    "    failedCleanupsDf.to_csv(failedCsvFilename)\n",
    "    print(f'\\nUNSUCCESSFUL cleanups have been saved to a new csv file named \"{failedCsvFilename}\"')\n",
    "else:\n",
    "    print('\\nAll automations successfully cleaned up')\n",
    "\n",
    "print(f'\\n{divider}')"
   ]
  },
  {
   "cell_type": "code",
   "execution_count": null,
   "id": "57519fce-7426-41ce-9592-6fc740190ebc",
   "metadata": {},
   "outputs": [],
   "source": [
    "#Prevent immediate closing of console on completion for user to be able to continue looking at the logs\n",
    "closingMessage = \"\\n\\nNOTE: ***THE AUTOMATIONS STILL EXIST***. Only the schedules have been removed.\"\n",
    "ConsoleHelpers.PreventImmediateConsoleClose(closingMessage)"
   ]
  }
 ],
 "metadata": {
  "kernelspec": {
   "display_name": "Python 3 (ipykernel)",
   "language": "python",
   "name": "python3"
  },
  "language_info": {
   "codemirror_mode": {
    "name": "ipython",
    "version": 3
   },
   "file_extension": ".py",
   "mimetype": "text/x-python",
   "name": "python",
   "nbconvert_exporter": "python",
   "pygments_lexer": "ipython3",
   "version": "3.9.7"
  }
 },
 "nbformat": 4,
 "nbformat_minor": 5
}
