{
 "cells": [
  {
   "cell_type": "markdown",
   "id": "41d3eed8-bfb2-43ec-8c7c-a4aca75e3176",
   "metadata": {
    "tags": []
   },
   "source": [
    "# Load Testing: Arrears Automation\n",
    "\n",
    "The process of load testing the arrears automation tool involves,\n",
    "1. Generating arbitary voluemes of test data.\n",
    "  - this is done through the standard API endpoints. This keeps the testing as consistent with expected use as possible.\n",
    "  - this generates several entitites specifically for the testing.\n",
    "  - this data is removed once completed.\n",
    "2. Filter, Validate and Explore Load Testing Customers.\n",
    "  - Once test data is generated, we can easily validate, filter and explore test data on a customer-by-customer basis.\n",
    "  - It is also convenient to run any aggregations at this stage for passing to the testing orchestrator.\n",
    "  - Once the data is filtered correctly, we can export a CSV for the orchestrator to pick up and/or create a data input table (tbd deleted post-testing).\n",
    "3. Orchestrator retrieves data from the temp data-source - configures and initiates the testing.\n",
    "  - Creates and configures automations for each customer en masse;\n",
    "  - Executes!\n",
    "4. Results exist in multiple pmdb tables, coalesce these into a single table of results. \n",
    "  - Viz and explore results.\n",
    "\n",
    "Results include:\n",
    "\n",
    "- delta_t automation execution \"gross execution\";\n",
    "- delta_t (execution created to begin) \"deadtime\"\n",
    "- delta_t run planning \"planning time\"\n",
    "- delta_t total automation system time \"net execution\";\n"
   ]
  }
 ],
 "metadata": {
  "kernelspec": {
   "display_name": "Python 3 (ipykernel)",
   "language": "python",
   "name": "python3"
  },
  "language_info": {
   "codemirror_mode": {
    "name": "ipython",
    "version": 3
   },
   "file_extension": ".py",
   "mimetype": "text/x-python",
   "name": "python",
   "nbconvert_exporter": "python",
   "pygments_lexer": "ipython3",
   "version": "3.9.7"
  }
 },
 "nbformat": 4,
 "nbformat_minor": 5
}
